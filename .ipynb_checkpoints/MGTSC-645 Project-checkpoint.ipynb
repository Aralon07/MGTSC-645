{
 "cells": [
  {
   "cell_type": "code",
   "execution_count": null,
   "id": "177afd30",
   "metadata": {},
   "outputs": [],
   "source": []
  },
  {
   "cell_type": "code",
   "execution_count": null,
   "id": "52a0b09f",
   "metadata": {
    "lines_to_next_cell": 2
   },
   "outputs": [],
   "source": [
    "\n",
    "#This comment is to add the code to my branch\n",
    "\n",
    "import pandas as pd\n",
    "\n",
    "import os  # **Import os to work with environment variables**\n",
    "\n",
    "# **Get the file path from the DATA_PATH environment variable**\n",
    "**data_path = os.getenv(\"DATA_PATH\", \"/Users/raylu/Desktop/Courses/MGTSC\\ 645/FInal\\ Project /Users/raylu/Desktop/Courses/MGTSC\\ 645/FInal\\ Project\")**  # Adjust default path if needed\n",
    "**file_path = os.path.join(data_path, \"superstore.csv\")**\n",
    "\n",
    "# Load the dataset\n",
    "df = pd.read_csv(file_path, encoding='latin1')\n",
    "\n",
    "# Display first few rows\n",
    "print(\"First 5 rows of the dataset:\")\n",
    "print(df.head())\n",
    "\n",
    "# Display dataset info\n",
    "print(\"\\nDataset Info (Before Cleaning):\")\n",
    "print(df.info())\n",
    "\n",
    "# Check for duplicate rows\n",
    "duplicates = df.duplicated().sum()\n",
    "print(f\"\\nNumber of duplicate rows: {duplicates}\")\n",
    "\n",
    "# Drop duplicate rows\n",
    "df = df.drop_duplicates()\n",
    "\n",
    "# Check for missing values **(but do not fill them)**\n",
    "print(\"\\nMissing Values per Column:\")\n",
    "print(df.isnull().sum())\n",
    "\n",
    "# Convert columns to correct data types\n",
    "date_columns = ['Order Date', 'Ship Date']  # Modify if needed\n",
    "for col in date_columns:\n",
    "    df[col] = pd.to_datetime(df[col], errors='coerce')\n",
    "\n",
    "# Drop columns that are useless for analysis (modify this list as needed)\n",
    "columns_to_drop = ['Row ID', 'Postal Code']  # Example: Remove identifiers that are not useful\n",
    "df = df.drop(columns=columns_to_drop, errors='ignore')\n",
    "\n",
    "# Ensure correct data types\n",
    "print(\"\\nUpdated Data Types:\")\n",
    "print(df.dtypes)\n",
    "\n"
   ]
  }
 ],
 "metadata": {
  "jupytext": {
   "cell_metadata_filter": "-all",
   "encoding": "# coding: utf-8",
   "executable": "/usr/bin/env python",
   "main_language": "python",
   "notebook_metadata_filter": "-all"
  }
 },
 "nbformat": 4,
 "nbformat_minor": 5
}
